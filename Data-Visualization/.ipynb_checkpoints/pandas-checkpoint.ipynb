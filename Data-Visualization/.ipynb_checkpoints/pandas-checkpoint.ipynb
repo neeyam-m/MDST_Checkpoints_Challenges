{
 "cells": [
  {
   "cell_type": "markdown",
   "metadata": {},
   "source": [
    "# Data Visualization in Pandas"
   ]
  },
  {
   "cell_type": "markdown",
   "metadata": {},
   "source": [
    "In this tutorial, we will show some samples of plotting functionality built into `pandas`. These functions are good for getting a quick visual for rough understanding of the data.\n",
    "\n",
    "For a more complete discussion, see this [documentation](https://pandas.pydata.org/pandas-docs/stable/user_guide/visualization.html)."
   ]
  },
  {
   "cell_type": "code",
   "execution_count": 1,
   "metadata": {},
   "outputs": [],
   "source": [
    "import pandas as pd\n",
    "df = pd.read_csv('../data/cereal.csv')"
   ]
  },
  {
   "cell_type": "markdown",
   "metadata": {},
   "source": [
    "## One Variable, Continuous\n",
    "\n",
    "When dealing with continuous data, it is important to understand its distribution. \n",
    "\n",
    "`describe()` is a good start but sometimes it fails to tell full story."
   ]
  },
  {
   "cell_type": "code",
   "execution_count": 2,
   "metadata": {},
   "outputs": [
    {
     "data": {
      "text/plain": [
       "<Axes: title={'center': 'Sodium Content Distrbution'}, ylabel='Frequency'>"
      ]
     },
     "execution_count": 2,
     "metadata": {},
     "output_type": "execute_result"
    },
    {
     "data": {
      "image/png": "[encoded data removed]",
      "text/plain": [
       "<Figure size 640x480 with 1 Axes>"
      ]
     },
     "metadata": {},
     "output_type": "display_data"
    }
   ],
   "source": [
    "# We can use a histogram (plot.hist)\n",
    "# Let's demonstrate it with the sodium column\n",
    "\n",
    "df[\"sodium\"].plot.hist(edgecolor='black', alpha=0.8, title=\"Sodium Content Distrbution\")"
   ]
  },
  {
   "cell_type": "markdown",
   "metadata": {},
   "source": [
    "Three arguments are supplied to the plot function to make the output looks nicer. Playing around with all the arguments as documented [here](https://pandas.pydata.org/pandas-docs/stable/reference/api/pandas.Series.plot.hist.html#pandas.Series.plot.hist) and [here](https://pandas.pydata.org/pandas-docs/stable/reference/api/pandas.DataFrame.plot.html#pandas.DataFrame.plot) is by far the best way to learn visualization skills. "
   ]
  },
  {
   "cell_type": "code",
   "execution_count": null,
   "metadata": {},
   "outputs": [],
   "source": [
    "# It feels a bit weird to visualize continuous data with discrete bins, doesn't it\n",
    "# Density plots address this problem (plot.kde)\n",
    "# We will demonstrate it with the vitamins column\n",
    "df[\"vitamins\"].plot.kde(title=\"Vitamins Content Distribution\")"
   ]
  },
  {
   "cell_type": "markdown",
   "metadata": {},
   "source": [
    "## Two Variables, Both Discrete"
   ]
  },
  {
   "cell_type": "code",
   "execution_count": null,
   "metadata": {},
   "outputs": [],
   "source": [
    "# We will use bar graphs to visualize how many differnet cereals each manufacturer make (plot.bar)\n",
    "# First, let's group by manufacturer and count their cereals\n",
    "\n",
    "num_by_mfr = df.groupby(\"mfr\")[\"name\"].count()\n",
    "num_by_mfr"
   ]
  },
  {
   "cell_type": "code",
   "execution_count": null,
   "metadata": {},
   "outputs": [],
   "source": [
    "num_by_mfr.plot.bar(title=\"Number of Cereals Each Manufacturer Makes\", grid=\"True\", rot=0)"
   ]
  },
  {
   "cell_type": "markdown",
   "metadata": {},
   "source": [
    "## Two Variables, Both Continuous"
   ]
  },
  {
   "cell_type": "code",
   "execution_count": null,
   "metadata": {},
   "outputs": [],
   "source": [
    "# Scatterplots are the most suitable for these data (plot.scatter) \n",
    "# Let's look at the relationship between sugar content and rating\n",
    "df.plot.scatter(x=\"sugars\", y=\"rating\", title=\"Rating vs Sugar Content\")"
   ]
  }
 ],
 "metadata": {
  "kernelspec": {
   "display_name": "Python 3 (ipykernel)",
   "language": "python",
   "name": "python3"
  },
  "language_info": {
   "codemirror_mode": {
    "name": "ipython",
    "version": 3
   },
   "file_extension": ".py",
   "mimetype": "text/x-python",
   "name": "python",
   "nbconvert_exporter": "python",
   "pygments_lexer": "ipython3",
   "version": "3.10.9"
  }
 },
 "nbformat": 4,
 "nbformat_minor": 2
}
